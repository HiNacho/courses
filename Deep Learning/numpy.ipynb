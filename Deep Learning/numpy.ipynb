{
 "cells": [
  {
   "cell_type": "code",
   "execution_count": 1,
   "id": "056775a9",
   "metadata": {},
   "outputs": [],
   "source": [
    "import numpy as np"
   ]
  },
  {
   "cell_type": "code",
   "execution_count": 4,
   "id": "b4fd6411",
   "metadata": {},
   "outputs": [
    {
     "name": "stdout",
     "output_type": "stream",
     "text": [
      "[-1 -2  1  2  3]\n"
     ]
    }
   ],
   "source": [
    "np1 = np.array([-1,-2, 1, 2, 3])\n",
    "print(np1)"
   ]
  },
  {
   "cell_type": "code",
   "execution_count": 5,
   "id": "72812655",
   "metadata": {},
   "outputs": [
    {
     "name": "stderr",
     "output_type": "stream",
     "text": [
      "/var/folders/tr/jb5rcznx5cx_5ggz3m54mxsm0000gn/T/ipykernel_16491/2411808288.py:1: RuntimeWarning: invalid value encountered in sqrt\n",
      "  np.sqrt(np1)\n"
     ]
    },
    {
     "data": {
      "text/plain": [
       "array([       nan,        nan, 1.        , 1.41421356, 1.73205081])"
      ]
     },
     "execution_count": 5,
     "metadata": {},
     "output_type": "execute_result"
    }
   ],
   "source": [
    "np.sqrt(np1)"
   ]
  },
  {
   "cell_type": "code",
   "execution_count": 6,
   "id": "f0176f43",
   "metadata": {},
   "outputs": [
    {
     "data": {
      "text/plain": [
       "array([1, 2, 1, 2, 3])"
      ]
     },
     "execution_count": 6,
     "metadata": {},
     "output_type": "execute_result"
    }
   ],
   "source": [
    "np.absolute(np1)    \n"
   ]
  },
  {
   "cell_type": "code",
   "execution_count": 7,
   "id": "42a016b0",
   "metadata": {},
   "outputs": [
    {
     "data": {
      "text/plain": [
       "array([ 0.36787944,  0.13533528,  2.71828183,  7.3890561 , 20.08553692])"
      ]
     },
     "execution_count": 7,
     "metadata": {},
     "output_type": "execute_result"
    }
   ],
   "source": [
    "np.exp(np1)"
   ]
  },
  {
   "cell_type": "code",
   "execution_count": 8,
   "id": "da0f9cd1",
   "metadata": {},
   "outputs": [
    {
     "data": {
      "text/plain": [
       "np.int64(3)"
      ]
     },
     "execution_count": 8,
     "metadata": {},
     "output_type": "execute_result"
    }
   ],
   "source": [
    "np.max(np1)"
   ]
  },
  {
   "cell_type": "code",
   "execution_count": 9,
   "id": "77bdf3fc",
   "metadata": {},
   "outputs": [
    {
     "data": {
      "text/plain": [
       "array([-1, -1,  1,  1,  1])"
      ]
     },
     "execution_count": 9,
     "metadata": {},
     "output_type": "execute_result"
    }
   ],
   "source": [
    "np.sign(np1)"
   ]
  },
  {
   "cell_type": "code",
   "execution_count": 10,
   "id": "01d00f12",
   "metadata": {},
   "outputs": [
    {
     "name": "stdout",
     "output_type": "stream",
     "text": [
      "[[1 2 3]\n",
      " [4 5 6]\n",
      " [7 8 9]]\n"
     ]
    }
   ],
   "source": [
    "np2 = np.arange(1, 10).reshape(3,3)\n",
    "print(np2)"
   ]
  },
  {
   "cell_type": "code",
   "execution_count": 11,
   "id": "37c28b41",
   "metadata": {},
   "outputs": [
    {
     "name": "stdout",
     "output_type": "stream",
     "text": [
      "[[7 7 7]\n",
      " [7 7 7]]\n"
     ]
    }
   ],
   "source": [
    "np4 = np.full((2,3), 7)\n",
    "print(np4)"
   ]
  },
  {
   "cell_type": "code",
   "execution_count": 12,
   "id": "f3e4368d",
   "metadata": {},
   "outputs": [],
   "source": [
    "np6 = np4[1:3]"
   ]
  },
  {
   "cell_type": "code",
   "execution_count": 13,
   "id": "9b3f55e2",
   "metadata": {},
   "outputs": [
    {
     "data": {
      "text/plain": [
       "array([[7, 7, 7]])"
      ]
     },
     "execution_count": 13,
     "metadata": {},
     "output_type": "execute_result"
    }
   ],
   "source": [
    "np6"
   ]
  },
  {
   "cell_type": "markdown",
   "id": "ded99c2a",
   "metadata": {},
   "source": [
    "## NumPy: view vs copy\n",
    "\n",
    "This short example shows the difference between a view (a slice that shares memory with the original array) and a copy (a separate array).\n",
    "We demonstrate:\n",
    "- Creating a slice (view) and checking `np.shares_memory`\n",
    "- Modifying the view and observing changes in the original array\n",
    "- Creating a copy with `arr.copy()` and showing it does not affect the original\n",
    "- `np.shares_memory` returns False for copies."
   ]
  },
  {
   "cell_type": "code",
   "execution_count": 17,
   "id": "631a335b",
   "metadata": {},
   "outputs": [
    {
     "name": "stdout",
     "output_type": "stream",
     "text": [
      "original arr: [0 1 2 3 4 5 6 7 8 9]\n",
      "view (arr[2:6]): [2 3 4 5]\n",
      "shares_memory(arr, view): True\n",
      "After modifying view[0] = 999\n",
      "view: [999   3   4   5]\n",
      "original arr: [  0   1 999   3   4   5   6   7   8   9]\n"
     ]
    }
   ],
   "source": [
    "import numpy as np\n",
    "\n",
    "# base array\n",
    "arr = np.arange(10)\n",
    "print('original arr:', arr)\n",
    "\n",
    "# slice -> this is a view (shares memory)\n",
    "view = arr[2:6]\n",
    "print('view (arr[2:6]):', view)\n",
    "print('shares_memory(arr, view):', np.shares_memory(arr, view))\n",
    "\n",
    "# modify the view and show original array changes\n",
    "view[0] = 999\n",
    "print('After modifying view[0] = 999')\n",
    "print('view:', view)\n",
    "print('original arr:', arr)\n",
    "\n",
    "# sometimes `base` points to the original (not always for copies)"
   ]
  },
  {
   "cell_type": "code",
   "execution_count": 18,
   "id": "976daea2",
   "metadata": {},
   "outputs": [
    {
     "name": "stdout",
     "output_type": "stream",
     "text": [
      "original arr before: [0 1 2 3 4 5 6 7 8 9]\n",
      "copy1: [2 3 4 5]\n",
      "copy2: [2 3 4 5]\n",
      "shares_memory(arr, copy1): False\n",
      "After modifying copy1[0] = -7\n",
      "copy1: [-7  3  4  5]\n",
      "original arr (unchanged): [0 1 2 3 4 5 6 7 8 9]\n",
      "arr[2:6].base is arr -> True\n",
      "copy1.base is None -> True\n",
      "np.shares_memory(arr, arr[2:6]): True\n"
     ]
    }
   ],
   "source": [
    "# make a copy explicitly\n",
    "arr = np.arange(10)\n",
    "copy1 = arr[2:6].copy()    # or np.copy(arr[2:6])\n",
    "copy2 = np.array(arr[2:6]) # also creates a new array\n",
    "print('original arr before:', arr)\n",
    "print('copy1:', copy1)\n",
    "print('copy2:', copy2)\n",
    "print('shares_memory(arr, copy1):', np.shares_memory(arr, copy1))\n",
    "\n",
    "# change the copy and show original is unchanged\n",
    "copy1[0] = -7\n",
    "print('After modifying copy1[0] = -7')\n",
    "print('copy1:', copy1)\n",
    "print('original arr (unchanged):', arr)\n",
    "\n",
    "# summary checks\n",
    "print('arr[2:6].base is arr ->', arr[2:6].base is arr)\n",
    "print('copy1.base is None ->', copy1.base is None)\n",
    "print('np.shares_memory(arr, arr[2:6]):', np.shares_memory(arr, arr[2:6]))"
   ]
  },
  {
   "cell_type": "code",
   "execution_count": 19,
   "id": "4e0e7d0e",
   "metadata": {},
   "outputs": [
    {
     "name": "stdout",
     "output_type": "stream",
     "text": [
      "[ 0  1  4  9 16 25 36 49 64 81]\n"
     ]
    }
   ],
   "source": [
    "np5 = np.arange(10)\n",
    "for i in range(len(np5)):\n",
    "    np5[i] = np5[i] ** 2\n",
    "print(np5)"
   ]
  },
  {
   "cell_type": "code",
   "execution_count": 20,
   "id": "00345c04",
   "metadata": {},
   "outputs": [],
   "source": [
    "array_3d = np.array([[[1, 2, 3],\n",
    "                      [4, 5, 6]],\n",
    "                      [[7, 8, 9],\n",
    "                      [10, 11, 12]]])"
   ]
  },
  {
   "cell_type": "code",
   "execution_count": 21,
   "id": "8657ecad",
   "metadata": {},
   "outputs": [
    {
     "data": {
      "text/plain": [
       "array([[[ 1,  2,  3],\n",
       "        [ 4,  5,  6]],\n",
       "\n",
       "       [[ 7,  8,  9],\n",
       "        [10, 11, 12]]])"
      ]
     },
     "execution_count": 21,
     "metadata": {},
     "output_type": "execute_result"
    }
   ],
   "source": [
    "array_3d"
   ]
  },
  {
   "cell_type": "code",
   "execution_count": 22,
   "id": "a0f7b4fc",
   "metadata": {},
   "outputs": [
    {
     "name": "stdout",
     "output_type": "stream",
     "text": [
      "1\n",
      "2\n",
      "3\n",
      "4\n",
      "5\n",
      "6\n",
      "7\n",
      "8\n",
      "9\n",
      "10\n",
      "11\n",
      "12\n"
     ]
    }
   ],
   "source": [
    "for i in np.nditer(array_3d):\n",
    "    print(i)"
   ]
  },
  {
   "cell_type": "code",
   "execution_count": 23,
   "id": "c849b499",
   "metadata": {},
   "outputs": [
    {
     "data": {
      "text/plain": [
       "array([ 1,  2,  3,  4,  5,  6,  7,  8,  9, 10])"
      ]
     },
     "execution_count": 23,
     "metadata": {},
     "output_type": "execute_result"
    }
   ],
   "source": [
    "np6 = np.array([1,2,3,4,5,6,7,8,9,10])\n",
    "np6"
   ]
  },
  {
   "cell_type": "code",
   "execution_count": 24,
   "id": "357a70ba",
   "metadata": {},
   "outputs": [
    {
     "data": {
      "text/plain": [
       "array([-1,  2, -1,  4, -1,  6, -1,  8, -1, 10])"
      ]
     },
     "execution_count": 24,
     "metadata": {},
     "output_type": "execute_result"
    }
   ],
   "source": [
    "x = np.where(np6 % 2 == 0, np6, -1)\n",
    "x"
   ]
  },
  {
   "cell_type": "code",
   "execution_count": 25,
   "id": "72153af1",
   "metadata": {},
   "outputs": [
    {
     "data": {
      "text/plain": [
       "(array([4]),)"
      ]
     },
     "execution_count": 25,
     "metadata": {},
     "output_type": "execute_result"
    }
   ],
   "source": [
    "y = np.where(np6 == 5)\n",
    "y"
   ]
  },
  {
   "cell_type": "code",
   "execution_count": null,
   "id": "a7d2973d",
   "metadata": {},
   "outputs": [],
   "source": []
  }
 ],
 "metadata": {
  "kernelspec": {
   "display_name": "Python 3",
   "language": "python",
   "name": "python3"
  },
  "language_info": {
   "codemirror_mode": {
    "name": "ipython",
    "version": 3
   },
   "file_extension": ".py",
   "mimetype": "text/x-python",
   "name": "python",
   "nbconvert_exporter": "python",
   "pygments_lexer": "ipython3",
   "version": "3.9.6"
  }
 },
 "nbformat": 4,
 "nbformat_minor": 5
}
